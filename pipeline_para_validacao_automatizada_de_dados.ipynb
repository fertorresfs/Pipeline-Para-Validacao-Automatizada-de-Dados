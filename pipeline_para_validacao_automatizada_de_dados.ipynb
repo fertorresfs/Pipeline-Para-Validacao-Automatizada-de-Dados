{
  "nbformat": 4,
  "nbformat_minor": 0,
  "metadata": {
    "colab": {
      "provenance": [],
      "authorship_tag": "ABX9TyM09ohMF8dLboVG/HAxs/LK",
      "include_colab_link": true
    },
    "kernelspec": {
      "name": "python3",
      "display_name": "Python 3"
    },
    "language_info": {
      "name": "python"
    }
  },
  "cells": [
    {
      "cell_type": "markdown",
      "metadata": {
        "id": "view-in-github",
        "colab_type": "text"
      },
      "source": [
        "<a href=\"https://colab.research.google.com/github/fertorresfs/Pipeline-Para-Validacao-Automatizada-de-Dados/blob/main/pipeline_para_validacao_automatizada_de_dados.ipynb\" target=\"_parent\"><img src=\"https://colab.research.google.com/assets/colab-badge.svg\" alt=\"Open In Colab\"/></a>"
      ]
    },
    {
      "cell_type": "code",
      "execution_count": null,
      "metadata": {
        "id": "jYpa6HuaAIKL"
      },
      "outputs": [],
      "source": [
        "import pandas as pd\n",
        "import logging\n",
        "from datetime import datetime\n",
        "\n",
        "# Configurar o logging\n",
        "logging.basicConfig(filename=f'validacao_dados_{datetime.now().strftime(\"%Y%m%d_%H%M%S\")}.log', level=logging.INFO,\n",
        "                    format='%(asctime)s - %(levelname)s - %(message)s')"
      ]
    },
    {
      "cell_type": "code",
      "source": [
        "def validar_dados(funcao):\n",
        "    \"\"\"Decorador para registrar informações de validação.\"\"\"\n",
        "    def wrapper(df, *args, **kwargs):\n",
        "        nome_funcao = funcao.__name__\n",
        "        logging.info(f\"Executando validação: {nome_funcao}\")\n",
        "        resultado = funcao(df, *args, **kwargs)\n",
        "        logging.info(f\"Validação {nome_funcao}: {'Passou' if resultado else 'Falhou'}\")\n",
        "        return resultado\n",
        "    return wrapper"
      ],
      "metadata": {
        "id": "1OMJ4oH6Aezu"
      },
      "execution_count": null,
      "outputs": []
    },
    {
      "cell_type": "code",
      "source": [
        "@validar_dados\n",
        "def verificar_nulos(df, colunas):\n",
        "    \"\"\"Verifica se há valores nulos nas colunas especificadas.\"\"\"\n",
        "    for col in colunas:\n",
        "        if df[col].isnull().any():\n",
        "            logging.warning(f\"Coluna '{col}' contém valores nulos.\")\n",
        "            return False # retorna falso se houver algum nulo\n",
        "    return True"
      ],
      "metadata": {
        "id": "d6rWIwXnAgfb"
      },
      "execution_count": null,
      "outputs": []
    },
    {
      "cell_type": "code",
      "source": [
        "@validar_dados\n",
        "def verificar_unicos(df, colunas):\n",
        "    \"\"\"Verifica se os valores em uma coluna são únicos.\"\"\"\n",
        "    for col in colunas:\n",
        "        if len(df[col].unique()) != len(df[col]): #conferindo se o número de valores únicos é igual ao tamanho da coluna\n",
        "            logging.warning(f\"Coluna '{col}' contém valores duplicados.\")\n",
        "            return False\n",
        "    return True"
      ],
      "metadata": {
        "id": "BhghXLs3Aio5"
      },
      "execution_count": null,
      "outputs": []
    },
    {
      "cell_type": "code",
      "source": [
        "@validar_dados\n",
        "def verificar_intervalo(df, coluna, min_val, max_val):\n",
        "    \"\"\"Verifica se os valores em uma coluna estão dentro de um intervalo.\"\"\"\n",
        "\n",
        "    if not (df[coluna] >= min_val).all() or not (df[coluna] <= max_val).all(): #.all para verificar em todo o df\n",
        "        logging.warning(f\"Coluna '{coluna}' contém valores fora do intervalo [{min_val}, {max_val}].\")\n",
        "        return False\n",
        "    return True"
      ],
      "metadata": {
        "id": "LG5BFNlzAkr1"
      },
      "execution_count": null,
      "outputs": []
    },
    {
      "cell_type": "code",
      "source": [
        "@validar_dados\n",
        "def verificar_duplicatas(df):\n",
        "    \"\"\"Verifica se há linhas duplicadas no DataFrame.\"\"\"\n",
        "    if df.duplicated().any():\n",
        "        logging.warning(\"O DataFrame contém linhas duplicadas.\")\n",
        "        return False\n",
        "    return True\n"
      ],
      "metadata": {
        "id": "REJdFt1EAmra"
      },
      "execution_count": null,
      "outputs": []
    },
    {
      "cell_type": "code",
      "source": [
        "def executar_validacao(df, validacoes):\n",
        "    \"\"\"Executa as validações especificadas.\"\"\"\n",
        "\n",
        "    resultados = {}\n",
        "    for validacao in validacoes:\n",
        "        func = validacao['funcao']\n",
        "        args = validacao.get('args', [])\n",
        "        kwargs = validacao.get('kwargs', {})\n",
        "        resultados[func.__name__] = func(df, *args, **kwargs)\n",
        "\n",
        "\n",
        "    return resultados"
      ],
      "metadata": {
        "id": "OmzSEWIcAo0S"
      },
      "execution_count": null,
      "outputs": []
    },
    {
      "cell_type": "code",
      "source": [
        "# Exemplo de uso:\n",
        "dados = {\n",
        "    'id': [1, 2, 3, 4, 5, 5], #id duplicado\n",
        "    'nome': ['Alice', 'Bob', 'Charlie', 'David', None], #nome nulo\n",
        "    'idade': [25, 30, 22, 45, 28],\n",
        "    'valor': [100, 200, 150, 500, 10000] #outlier\n",
        "}\n",
        "\n",
        "df = pd.DataFrame(dados)"
      ],
      "metadata": {
        "id": "RzYUYzAeAsG2"
      },
      "execution_count": null,
      "outputs": []
    },
    {
      "cell_type": "code",
      "source": [
        "validacoes = [\n",
        "    {'funcao': verificar_nulos, 'args': [['nome']]},\n",
        "    {'funcao': verificar_unicos, 'args': [['id']]},\n",
        "    {'funcao': verificar_intervalo, 'args': ['idade'], 'kwargs': {'min_val': 18, 'max_val': 65}},\n",
        "    {'funcao': verificar_duplicatas}\n",
        "]"
      ],
      "metadata": {
        "id": "-Im1StIgAuE9"
      },
      "execution_count": null,
      "outputs": []
    },
    {
      "cell_type": "code",
      "source": [
        "resultados_validacao = executar_validacao(df, validacoes)"
      ],
      "metadata": {
        "id": "UMcUcu3FAwyV"
      },
      "execution_count": null,
      "outputs": []
    },
    {
      "cell_type": "code",
      "source": [
        "print(resultados_validacao) #exibe no console\n",
        "# Mostra no log o resultado de cada validação (Passou ou Falhou)"
      ],
      "metadata": {
        "id": "Z46Lw61iAyhs"
      },
      "execution_count": null,
      "outputs": []
    }
  ]
}